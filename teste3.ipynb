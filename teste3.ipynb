{
 "cells": [
  {
   "cell_type": "code",
   "execution_count": 1,
   "id": "4888fc3c",
   "metadata": {},
   "outputs": [
    {
     "name": "stderr",
     "output_type": "stream",
     "text": [
      "C:\\Users\\vinic\\AppData\\Local\\Temp\\ipykernel_15812\\3799913659.py:6: LangChainDeprecationWarning: The class `Ollama` was deprecated in LangChain 0.3.1 and will be removed in 1.0.0. An updated version of the class exists in the :class:`~langchain-ollama package and should be used instead. To use it run `pip install -U :class:`~langchain-ollama` and import as `from :class:`~langchain_ollama import OllamaLLM``.\n",
      "  llm = Ollama(model=\"ollama/mistral\", base_url=\"http://localhost:11434\")\n"
     ]
    },
    {
     "name": "stdout",
     "output_type": "stream",
     "text": [
      "✅ Relatório salvo como 'relatorio_analise_jogos_acao.md'\n"
     ]
    }
   ],
   "source": [
    "from crewai import Agent, Task, Crew\n",
    "from langchain_community.llms import Ollama\n",
    "import yaml\n",
    "import os\n",
    "\n",
    "llm = Ollama(model=\"ollama/mistral\", base_url=\"http://localhost:11434\")\n",
    "\n",
    "def carregar_yaml(file_path):\n",
    "    with open(file_path, 'r', encoding='utf-8') as file:\n",
    "        return yaml.safe_load(file)\n",
    "\n",
    "    \n",
    "# === Carregar apenas o agente de análise de dados ===\n",
    "agente_cfg = carregar_yaml(\"agents/analyze_data.yaml\")\n",
    "analyze_data = agente_cfg[\"analyze_data\"]\n",
    "\n",
    "agente_cfg = carregar_yaml(\"agents/analyze_data.yaml\")\n",
    "analyze_data = agente_cfg[\"analyze_data\"]\n",
    "\n",
    "\n",
    "agent = Agent(\n",
    "    role=analyze_data[\"role\"],\n",
    "    goal=analyze_data[\"goal\"],\n",
    "    backstory=analyze_data[\"backstory\"],\n",
    "    llm=llm,\n",
    "    verbose=False\n",
    ")\n",
    "\n",
    "# carrega tarefa yaml\n",
    "tarefa_cfg = carregar_yaml(\"tasks/task_analyzer_data.yaml\")\n",
    "tarefa_data = tarefa_cfg[\"task_analyze_data\"]\n",
    "\n",
    "task = Task(\n",
    "    description=tarefa_data[\"description\"],\n",
    "    expected_output=tarefa_data[\"expected_output\"],\n",
    "    agent=agent\n",
    ")\n",
    "\n",
    "# Criar a crew com um agente e uma tarefa\n",
    "crew = Crew(\n",
    "    agents=[agent],\n",
    "    tasks=[task],\n",
    "    verbose=False\n",
    ")\n",
    "\n",
    "# Executa o agente\n",
    "resultado = crew.kickoff()\n",
    "\n",
    "\n",
    "# Salvar como Markdown\n",
    "with open(\"relatorio_analise_jogos_acao.md\", \"w\", encoding=\"utf-8\") as f:\n",
    "    f.write(str(resultado))  # Converte o resultado em string\n",
    "\n",
    "print(\"✅ Relatório salvo como 'relatorio_analise_jogos_acao.md'\")\n"
   ]
  },
  {
   "cell_type": "code",
   "execution_count": null,
   "id": "5bcc5640",
   "metadata": {},
   "outputs": [],
   "source": []
  }
 ],
 "metadata": {
  "kernelspec": {
   "display_name": "venv_crewai",
   "language": "python",
   "name": "python3"
  },
  "language_info": {
   "codemirror_mode": {
    "name": "ipython",
    "version": 3
   },
   "file_extension": ".py",
   "mimetype": "text/x-python",
   "name": "python",
   "nbconvert_exporter": "python",
   "pygments_lexer": "ipython3",
   "version": "3.12.10"
  }
 },
 "nbformat": 4,
 "nbformat_minor": 5
}
