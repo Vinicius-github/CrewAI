{
 "cells": [
  {
   "cell_type": "code",
   "execution_count": 1,
   "id": "454f8174",
   "metadata": {},
   "outputs": [
    {
     "name": "stdout",
     "output_type": "stream",
     "text": [
      "Agente de Análise de Dados Carregado: {'role': 'Especialista en análises de dados de jogos de videogame.\\n', 'goal': 'Investigar a base de dados fornecida e identificar padrões, tendências e insights relevantes e populares entre os jogos de ação.\\n', 'backstory': 'Você é um especialista em análise de dados com experiência em jogos de videogame. Você tem acesso a uma base de dados contendo informações sobre jogos de ação. Seu objetivo é analisar os dados e extrair insights significativos. Você possui habilidades para descobrir padrões escondidos em grandes volumes de dados.'}\n"
     ]
    },
    {
     "name": "stderr",
     "output_type": "stream",
     "text": [
      "C:\\Users\\vinic\\AppData\\Local\\Temp\\ipykernel_8412\\4151745174.py:6: LangChainDeprecationWarning: The class `Ollama` was deprecated in LangChain 0.3.1 and will be removed in 1.0.0. An updated version of the class exists in the :class:`~langchain-ollama package and should be used instead. To use it run `pip install -U :class:`~langchain-ollama` and import as `from :class:`~langchain_ollama import OllamaLLM``.\n",
      "  llm = Ollama(model=\"ollama/mistral\", base_url=\"http://localhost:11434\")\n"
     ]
    }
   ],
   "source": [
    "from crewai import Agent, Task, Crew\n",
    "from langchain_community.llms import Ollama\n",
    "import yaml\n",
    "import os\n",
    "\n",
    "llm = Ollama(model=\"ollama/mistral\", base_url=\"http://localhost:11434\")\n",
    "\n",
    "def carregar_yaml(file_path):\n",
    "    with open(file_path, 'r', encoding='utf-8') as file:\n",
    "        return yaml.safe_load(file)\n",
    "    \n",
    "# === Carregar apenas o agente de análise de dados ===\n",
    "agente_cfg = carregar_yaml(\"agents/analyze_data.yaml\")\n",
    "analyze_data = agente_cfg[\"analyze_data\"]\n",
    "\n",
    "print(\"Agente de Análise de Dados Carregado:\", analyze_data)\n"
   ]
  },
  {
   "cell_type": "code",
   "execution_count": 2,
   "id": "5a4edb37",
   "metadata": {},
   "outputs": [],
   "source": [
    "agente_cfg = carregar_yaml(\"agents/analyze_data.yaml\")\n",
    "analyze_data = agente_cfg[\"analyze_data\"]\n"
   ]
  },
  {
   "cell_type": "code",
   "execution_count": 3,
   "id": "a7338bf7",
   "metadata": {},
   "outputs": [],
   "source": [
    "agent = Agent(\n",
    "    role=analyze_data[\"role\"],\n",
    "    goal=analyze_data[\"goal\"],\n",
    "    backstory=analyze_data[\"backstory\"],\n",
    "    llm=llm,\n",
    "    verbose=False\n",
    ")"
   ]
  },
  {
   "cell_type": "code",
   "execution_count": 4,
   "id": "e239770d",
   "metadata": {},
   "outputs": [
    {
     "name": "stdout",
     "output_type": "stream",
     "text": [
      "id=UUID('3f2688dd-c4c8-44a2-aba5-9bbe70bdbf4c') role='Especialista en análises de dados de jogos de videogame.\\n' goal='Investigar a base de dados fornecida e identificar padrões, tendências e insights relevantes e populares entre os jogos de ação.\\n' backstory='Você é um especialista em análise de dados com experiência em jogos de videogame. Você tem acesso a uma base de dados contendo informações sobre jogos de ação. Seu objetivo é analisar os dados e extrair insights significativos. Você possui habilidades para descobrir padrões escondidos em grandes volumes de dados.' config=None cache=True verbose=False max_rpm=None allow_delegation=False tools=[] max_iter=25 agent_executor=<crewai.agents.crew_agent_executor.CrewAgentExecutor object at 0x000001E00AD95730> llm=<crewai.llm.LLM object at 0x000001E00AA9DBE0> crew=None i18n=I18N(prompt_file=None) cache_handler=CacheHandler() tools_handler=<crewai.agents.tools_handler.ToolsHandler object at 0x000001E00AD95370> tools_results=[] max_tokens=None knowledge=None knowledge_sources=None knowledge_storage=None security_config=SecurityConfig(version='1.0.0', fingerprint=Fingerprint(uuid_str='84c35e29-9ea7-4336-b6b5-aa2e0127b0ab', created_at=datetime.datetime(2025, 5, 31, 14, 57, 28, 652801), metadata={})) callbacks=[] adapted_agent=False knowledge_config=None max_execution_time=None agent_ops_agent_name='Especialista en análises de dados de jogos de videogame.\\n' agent_ops_agent_id=None step_callback=None use_system_prompt=True function_calling_llm=None system_template=None prompt_template=None response_template=None allow_code_execution=False respect_context_window=True max_retry_limit=2 multimodal=False inject_date=False date_format='%Y-%m-%d' code_execution_mode='safe' reasoning=False max_reasoning_attempts=None embedder=None agent_knowledge_context=None crew_knowledge_context=None knowledge_search_query=None from_repository=None\n"
     ]
    }
   ],
   "source": [
    "print(agent)"
   ]
  },
  {
   "cell_type": "code",
   "execution_count": 5,
   "id": "317907fd",
   "metadata": {},
   "outputs": [],
   "source": [
    "# carrega tarefa yaml\n",
    "tarefa_cfg = carregar_yaml(\"tasks/task_analyzer_data.yaml\")\n",
    "tarefa_data = tarefa_cfg[\"task_analyze_data\"]"
   ]
  },
  {
   "cell_type": "code",
   "execution_count": 6,
   "id": "9b9f0e86",
   "metadata": {},
   "outputs": [],
   "source": [
    "task = Task(\n",
    "    description=tarefa_data[\"description\"],\n",
    "    expected_output=tarefa_data[\"expected_output\"],\n",
    "    agent=agent\n",
    ")"
   ]
  },
  {
   "cell_type": "code",
   "execution_count": 7,
   "id": "f1c5ef10",
   "metadata": {},
   "outputs": [
    {
     "name": "stdout",
     "output_type": "stream",
     "text": [
      "used_tools=0 tools_errors=0 delegations=0 i18n=I18N(prompt_file=None) name=None prompt_context=None description='Você é responsável por analisar a base de dados de vendas de jogos e identificar as plataformas mais populares para jogos de ação. Carregue os dados do local indicado abaixo: <caminho_dados> {dataset_path} </caminho_dados>\\nEtapas obrigatórias: 1. Carregar o dataset usando pandas. 2. Limpar os dados (remover valores ausentes ou duplicados). 3. Filtrar apenas os jogos do gênero \"Action\". 4. Gerar uma tabela com as plataformas mais comuns para esse gênero, ordenadas pelas vendas totais. 5. Salvar a tabela em formato CSV e o gráfico gerado em formato PNG no caminho indicado:\\n   <caminho_resultados> {output_path} </caminho_resultados>\\n\\nImprima uma breve análise textual com insights dos dados analisados.\\n' expected_output='### Tabela de plataformas mais populares em jogos de ação (tabela gerada em Markdown)\\n### Gráfico (imagem salva em {output_path}/plataformas_populares.png)\\n### Conclusão (Resumo dos principais insights com base na análise realizada)\\n' config=None callback=None agent=Agent(role=Especialista en análises de dados de jogos de videogame.\n",
      ", goal=Investigar a base de dados fornecida e identificar padrões, tendências e insights relevantes e populares entre os jogos de ação.\n",
      ", backstory=Você é um especialista em análise de dados com experiência em jogos de videogame. Você tem acesso a uma base de dados contendo informações sobre jogos de ação. Seu objetivo é analisar os dados e extrair insights significativos. Você possui habilidades para descobrir padrões escondidos em grandes volumes de dados.) context=NOT_SPECIFIED async_execution=False output_json=None output_pydantic=None output_file=None output=None tools=[] security_config=SecurityConfig(version='1.0.0', fingerprint=Fingerprint(uuid_str='ec87fdef-7089-48a9-b174-71fe85bcaa2c', created_at=datetime.datetime(2025, 5, 31, 14, 57, 28, 685353), metadata={})) id=UUID('5c1f195d-51b2-41a6-a96b-98656fc81831') human_input=False markdown=False converter_cls=None processed_by_agents=set() guardrail=None max_retries=3 retry_count=0 start_time=None end_time=None\n"
     ]
    }
   ],
   "source": [
    "print(task)"
   ]
  },
  {
   "cell_type": "code",
   "execution_count": 8,
   "id": "bf85accd",
   "metadata": {},
   "outputs": [],
   "source": [
    "# Criar a crew com um agente e uma tarefa\n",
    "crew = Crew(\n",
    "    agents=[agent],\n",
    "    tasks=[task],\n",
    "    verbose=False\n",
    ")"
   ]
  },
  {
   "cell_type": "code",
   "execution_count": 9,
   "id": "2e0800a6",
   "metadata": {},
   "outputs": [
    {
     "name": "stdout",
     "output_type": "stream",
     "text": [
      "parent_flow=None name=None cache=True tasks=[Task(description=Você é responsável por analisar a base de dados de vendas de jogos e identificar as plataformas mais populares para jogos de ação. Carregue os dados do local indicado abaixo: <caminho_dados> {dataset_path} </caminho_dados>\n",
      "Etapas obrigatórias: 1. Carregar o dataset usando pandas. 2. Limpar os dados (remover valores ausentes ou duplicados). 3. Filtrar apenas os jogos do gênero \"Action\". 4. Gerar uma tabela com as plataformas mais comuns para esse gênero, ordenadas pelas vendas totais. 5. Salvar a tabela em formato CSV e o gráfico gerado em formato PNG no caminho indicado:\n",
      "   <caminho_resultados> {output_path} </caminho_resultados>\n",
      "\n",
      "Imprima uma breve análise textual com insights dos dados analisados.\n",
      ", expected_output=### Tabela de plataformas mais populares em jogos de ação (tabela gerada em Markdown)\n",
      "### Gráfico (imagem salva em {output_path}/plataformas_populares.png)\n",
      "### Conclusão (Resumo dos principais insights com base na análise realizada)\n",
      ")] agents=[Agent(role=Especialista en análises de dados de jogos de videogame.\n",
      ", goal=Investigar a base de dados fornecida e identificar padrões, tendências e insights relevantes e populares entre os jogos de ação.\n",
      ", backstory=Você é um especialista em análise de dados com experiência em jogos de videogame. Você tem acesso a uma base de dados contendo informações sobre jogos de ação. Seu objetivo é analisar os dados e extrair insights significativos. Você possui habilidades para descobrir padrões escondidos em grandes volumes de dados.)] process=<Process.sequential: 'sequential'> verbose=False memory=False memory_config=None short_term_memory=None long_term_memory=None entity_memory=None user_memory=None external_memory=None embedder=None usage_metrics=None manager_llm=None manager_agent=None function_calling_llm=None config=None id=UUID('6a42ae4b-3175-40cf-bcec-ac47f17b0d5d') share_crew=False step_callback=None task_callback=None before_kickoff_callbacks=[] after_kickoff_callbacks=[] max_rpm=None prompt_file=None output_log_file=None planning=False planning_llm=None task_execution_output_json_files=None execution_logs=[] knowledge_sources=None chat_llm=None knowledge=None security_config=SecurityConfig(version='1.0.0', fingerprint=Fingerprint(uuid_str='7aca0186-ead0-45d1-b181-4b5e7f1f4b9e', created_at=datetime.datetime(2025, 5, 31, 14, 57, 28, 703954), metadata={}))\n"
     ]
    }
   ],
   "source": [
    "print(crew)"
   ]
  },
  {
   "cell_type": "code",
   "execution_count": 10,
   "id": "67dda9c8",
   "metadata": {},
   "outputs": [],
   "source": [
    "# Executa o agente\n",
    "resultado = crew.kickoff()\n"
   ]
  },
  {
   "cell_type": "code",
   "execution_count": 11,
   "id": "7dceb17b",
   "metadata": {},
   "outputs": [
    {
     "name": "stdout",
     "output_type": "stream",
     "text": [
      "✅ Relatório salvo como 'relatorio_analise_jogos_acao.md'\n"
     ]
    }
   ],
   "source": [
    "# Salvar como Markdown\n",
    "with open(\"relatorio_analise_jogos_acao.md\", \"w\", encoding=\"utf-8\") as f:\n",
    "    f.write(str(resultado))  # Converte o resultado em string\n",
    "\n",
    "print(\"✅ Relatório salvo como 'relatorio_analise_jogos_acao.md'\")"
   ]
  },
  {
   "cell_type": "code",
   "execution_count": null,
   "id": "a5b35bea",
   "metadata": {},
   "outputs": [],
   "source": []
  }
 ],
 "metadata": {
  "kernelspec": {
   "display_name": "venv_crewai",
   "language": "python",
   "name": "python3"
  },
  "language_info": {
   "codemirror_mode": {
    "name": "ipython",
    "version": 3
   },
   "file_extension": ".py",
   "mimetype": "text/x-python",
   "name": "python",
   "nbconvert_exporter": "python",
   "pygments_lexer": "ipython3",
   "version": "3.12.10"
  }
 },
 "nbformat": 4,
 "nbformat_minor": 5
}
