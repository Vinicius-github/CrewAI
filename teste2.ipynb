{
 "cells": [
  {
   "cell_type": "code",
   "execution_count": null,
   "id": "a8d010df",
   "metadata": {},
   "outputs": [],
   "source": [
    "from crewai import Agent, Task, Crew\n",
    "from langchain_community.llms import Ollama\n",
    "\n",
    "llm = Ollama(model=\"ollama/mistral\", base_url=\"http://localhost:11434\")\n",
    "\n",
    "agente_teste = Agent(\n",
    "    role=\"Assistente simples\",\n",
    "    goal=\"Responder perguntas simples\",\n",
    "    backstory=\"Assistente básico para testes.\",\n",
    "    llm=llm,\n",
    "    verbose=False\n",
    ")\n",
    "\n",
    "tarefa = Task(\n",
    "    description=\"Qual a capital do Brasil?\",\n",
    "    expected_output=\"Uma resposta clara e direta.\",\n",
    "    agent=agente_teste\n",
    ")\n",
    "\n",
    "crew = Crew(\n",
    "    agents=[agente_teste],\n",
    "    tasks=[tarefa],\n",
    "    verbose=False\n",
    ")\n",
    "\n",
    "try:\n",
    "    resultado = crew.kickoff()\n",
    "    print(\"Resultado obtido com sucesso!\")\n",
    "except Exception as e:\n",
    "    print(f\"Erro: {e}\")\n"
   ]
  },
  {
   "cell_type": "code",
   "execution_count": null,
   "id": "6b77e757",
   "metadata": {},
   "outputs": [],
   "source": [
    "print(resultado)"
   ]
  }
 ],
 "metadata": {
  "kernelspec": {
   "display_name": "venv_crewai",
   "language": "python",
   "name": "python3"
  },
  "language_info": {
   "codemirror_mode": {
    "name": "ipython",
    "version": 3
   },
   "file_extension": ".py",
   "mimetype": "text/x-python",
   "name": "python",
   "nbconvert_exporter": "python",
   "pygments_lexer": "ipython3",
   "version": "3.12.10"
  }
 },
 "nbformat": 4,
 "nbformat_minor": 5
}
